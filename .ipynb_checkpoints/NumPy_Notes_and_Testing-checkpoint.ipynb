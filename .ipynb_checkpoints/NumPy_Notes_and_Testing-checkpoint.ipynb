{
 "cells": [
  {
   "cell_type": "markdown",
   "id": "f6bb6b45",
   "metadata": {
    "tags": []
   },
   "source": [
    "# NumPy Notes\n",
    "### Author: Jesse Randall\n",
    "### Date: 20/01/2022"
   ]
  },
  {
   "cell_type": "markdown",
   "id": "83429d20-cd5b-4a90-9c4e-ce6787f97fff",
   "metadata": {
    "tags": []
   },
   "source": [
    "## Preface"
   ]
  },
  {
   "cell_type": "raw",
   "id": "e49a29d5-9a3c-4cfb-8d22-04ffad146da1",
   "metadata": {},
   "source": [
    "This notebook is meant for people who are familiar with the base\n",
    "functionality (syntax, methods, libraries, etc.) of Python and are\n",
    "looking to learn or review the contents of the NumPy library."
   ]
  },
  {
   "cell_type": "markdown",
   "id": "d632a9c1-2301-4d48-b065-552ad7870214",
   "metadata": {
    "tags": []
   },
   "source": [
    "### Changelog"
   ]
  },
  {
   "cell_type": "markdown",
   "id": "37016382-3b97-41a3-8ecd-0580d7949115",
   "metadata": {
    "tags": []
   },
   "source": [
    "#### 25/01/2022: Always look at the documentation!"
   ]
  },
  {
   "cell_type": "raw",
   "id": "3310b84e-7777-44f2-8966-e86821fb2b27",
   "metadata": {},
   "source": [
    "25/01/2022: Always look at the documentation!\n",
    "\n",
    "I used string concatenation in the print statements to make one input from multiple strings becuase using multiple comma separated inputs resulted in misaligned statements for the output. \n",
    "\n",
    "Example: Misaligned output with comma separated inputs.\n",
    "\n",
    "Input: print('Hello. My name is Jesse. \\n', \n",
    "             'The output of this line is NOT aligned with the output of the first line.')\n",
    "                 \n",
    "Output: Hello. My name is Jesse.\n",
    "         The output of this line is NOT aligned with the output of the first line.\n",
    "         \n",
    "Example: Aligned output with concatenated inputs.\n",
    "\n",
    "Input: print('Hello. My name is Jesse. \\n' +\n",
    "             'The output of this line IS aligned with the output of the first line.')\n",
    "                 \n",
    "Output: Hello. My name is Jesse.\n",
    "        The output of this line IS aligned with the output of the first line.\n",
    "         \n",
    "This was a workaround I found through some light experimentation. However, I found that my original method of string concatenation using the '+' operator is of O(N^2) complexity in Python, where N is the number of characters in each string, because strings are immutable meaning they cannot be changed. Every time string concatenation is performed using the '+' operator, a new string is made resulting in the minimum O(N^2) complexity if all strings are of the same size. \n",
    "\n",
    "I replaced string concatenation using the '+' operator with the str.join() method which takes a list of the strings that are going to be concatenated. This method creates exactly one string to contain the list of strings provided meaning it is O(N) complexity which is significantly more efficient. \n",
    "\n",
    "Again this was just a workaround where I did not bother to understand why the print() function has this behavior. What I should have done was look at the documentation for the print() function. I finally did look at the documentation and found a keyword argument called 'sep' that defines the character used to separate multiple inputs to the print() function. By default it is a single space and this is why the outputs were misaligned. I changed it to an empty string and the problem went away WITHOUT the need of string concatenation which simplifies the complexity of the code by removing an unnecessary step.\n",
    "\n",
    "Example: Aligned output using multiple inputs with sep=''.\n",
    "\n",
    "Input: >>> print('Hello. My name is Jesse. \\n',\n",
    "                 'The output of this line IS aligned with the output of the first line.', sep='')\n",
    "                 \n",
    "Output: Hello. My name is Jesse.\n",
    "        The output of this line IS aligned with the output of the first line.\n",
    "\n",
    "This is meant to be a beginner guide to NumPy and I do not want to demonstrate inefficient coding practice. Newer programmers will use this as an example of what 'good' coding looks like so I want to make sure that I demonstrate efficient coding practice throughout."
   ]
  },
  {
   "cell_type": "markdown",
   "id": "e8b9660b-91ba-4a77-86dc-f3c150f05682",
   "metadata": {
    "jp-MarkdownHeadingCollapsed": true,
    "tags": []
   },
   "source": [
    "#### 02/02/2022: Introducing Jupyter Notebook"
   ]
  },
  {
   "cell_type": "raw",
   "id": "e8e03301-2a3c-4f71-9387-7419c8822880",
   "metadata": {},
   "source": [
    "Created a section at the beginning to teach people how to use a Jupyter Notebook."
   ]
  },
  {
   "cell_type": "markdown",
   "id": "7c2eae60-0b59-4491-bb80-4c951dc073af",
   "metadata": {
    "tags": []
   },
   "source": [
    "## How to use a Jupyter Notebook"
   ]
  },
  {
   "cell_type": "raw",
   "id": "ad7bd249-2cba-4e6e-8972-f2a86734f6c8",
   "metadata": {},
   "source": [
    "This is a Jupyter Notebook detailing how to use the NumPy package for Python. This section covers how to use a Jupyter Notebook for people who are not familiar. \n",
    "\n",
    "Each selected \"cell\" or block of text/code is run through an interactive Python (iPython) kernel when you use the keyboard command \"Shit+Enter\". You can select a cell by clicking inside the box containing the text/code or by clicking to the left side of the cell. A cell is selected when is has a rectangular bar to the left of the cell, it is colored blue by default. \n",
    "\n",
    "Cells that contain code to be run will have the closed brackets on the left of the cell that look like this \"[ ]\". A cell has been run when you see a number inside the corresponding brackets for the cell and the number corresponds to how many cells of code have been run so far. Re-running a cell or running a new cell will increment the number. There will usually be a printed output beneath a cell that contains code. Try running the simple print statement below using the \"Shift+Enter\" command when you have the cell selected."
   ]
  },
  {
   "cell_type": "code",
   "execution_count": 1,
   "id": "86f1dca5-8b95-445e-88a1-1f2c68473561",
   "metadata": {},
   "outputs": [
    {
     "name": "stdout",
     "output_type": "stream",
     "text": [
      "Hello, World!\n"
     ]
    }
   ],
   "source": [
    "print('Hello, World!')"
   ]
  },
  {
   "cell_type": "raw",
   "id": "3c9b1776-a816-41b8-8dc2-628872828c40",
   "metadata": {},
   "source": [
    "You can go through each cell individually with the \"Shift+Enter\" method of running a cell. Make sure you start from the beginning by selecting the first cell in the sequence of code, otherwise the code will not work and there will be printed errors in the output signifying that. The notebook will automatically select the next cell after running the selected cell so you can easily run each cell in the sequence by repeatedly using the \"Shift+Enter\" command. To run all cells at once, click on the \"Run\" tab in the top left and click the option \"Run All Cells\". All cells in the entire notebook will be run and you can scroll through the notebook to see the output for each cell containing code. \n",
    "\n",
    "You can reset the current Kernel by selecting the \"Kernel\" tab in the top left and selecting the \"Restart Kernel and Clear All Outputs\" option. This will remove all currently defined functions and variables effectively resetting the notebook back to its base state.\n",
    "\n",
    "The notebook may have already been run when you receive it. This is easily determined by looking at the brackets beside each cell. If there is a number inside each input cell with code, then the notebook has been fully executed and the associated output for each cell should be printed."
   ]
  },
  {
   "cell_type": "markdown",
   "id": "2daa67fd",
   "metadata": {
    "tags": []
   },
   "source": [
    "## Import NumPy"
   ]
  },
  {
   "cell_type": "code",
   "execution_count": 2,
   "id": "2d0e1448",
   "metadata": {},
   "outputs": [],
   "source": [
    "# Import NumPy using abreviation 'np' for easier typing. Standard shorthand. Also\n",
    "# import other useful libraries that will be used.\n",
    "\n",
    "import numpy as np # NumPy library. Used to instantiate arrays and perform array operations.\n",
    "import traceback   # Traceback library. Used to print the call stack when an error occurs.\n",
    "\n",
    "# This statement shortens the printed float numbers for easier reading.\n",
    "np.set_printoptions(formatter={'float': lambda x: \"{0:0.3f}\".format(x)})\n",
    "\n",
    "# Initializizng variables for NumPy array dimensions and general use.\n",
    "N1 = 5        # Size of NumPy array dimension 1.\n",
    "N2 = int(1e1) # Size of NumPy array dimension 2. \n",
    "N3 = int(1e1) # Size of NumPy array dimension 3.\n",
    "NL = '\\n'     # New line or return. Makes coding print statements simpler.\n",
    "LS = 2        # Number of 'newline' or 'return' commands used when printing. "
   ]
  },
  {
   "cell_type": "markdown",
   "id": "62e7ce76",
   "metadata": {
    "tags": []
   },
   "source": [
    "## Initialization of NumPy Arrays"
   ]
  },
  {
   "cell_type": "raw",
   "id": "625f4003-1417-4793-b922-8814afd79caa",
   "metadata": {},
   "source": [
    "Initialization and properties of NumPy arrays. Example np.random.random_sample. Standard function for initiating an array of random values in the interval [0,1). Takes a tuple to define the shape or size of each dimension for the array. "
   ]
  },
  {
   "cell_type": "code",
   "execution_count": 3,
   "id": "0f90546d",
   "metadata": {},
   "outputs": [
    {
     "name": "stdout",
     "output_type": "stream",
     "text": [
      "The NumPy array \"a\": \n",
      "[[[0.345 0.037 0.804 0.180 0.355 0.121 0.544 0.936 0.830 0.916]\n",
      "  [0.077 0.964 0.317 0.793 0.491 0.776 0.450 0.322 0.482 0.826]\n",
      "  [0.548 0.907 0.787 0.338 0.654 0.017 0.726 0.563 0.694 0.095]\n",
      "  [0.081 0.273 0.865 0.577 0.544 0.418 0.156 0.914 0.764 0.910]\n",
      "  [0.344 0.359 0.568 0.763 0.963 0.766 0.901 0.263 0.031 0.880]\n",
      "  [0.149 0.973 0.474 0.482 0.826 0.154 0.103 0.600 0.594 0.796]\n",
      "  [0.848 0.317 0.417 0.617 0.499 0.840 0.636 0.218 0.675 0.985]\n",
      "  [0.415 0.568 0.672 0.240 0.364 0.158 0.547 0.442 0.707 0.122]\n",
      "  [0.846 0.096 0.712 0.450 0.105 0.236 0.035 0.112 0.743 0.082]\n",
      "  [0.338 0.213 0.936 0.136 0.617 0.773 0.030 0.831 0.427 0.583]]\n",
      "\n",
      " [[0.759 0.780 0.940 0.786 0.785 0.063 0.719 0.611 0.343 0.651]\n",
      "  [0.712 0.492 0.416 0.086 0.849 0.327 0.066 0.365 0.022 0.750]\n",
      "  [0.107 0.421 0.121 0.058 0.831 0.829 0.042 0.849 0.712 0.198]\n",
      "  [0.840 0.781 0.938 0.564 0.625 0.324 0.827 0.787 0.860 0.730]\n",
      "  [0.259 0.710 0.250 0.885 0.557 0.314 0.434 0.789 0.147 0.203]\n",
      "  [0.776 0.795 0.491 0.279 0.455 0.537 0.230 0.855 0.504 0.319]\n",
      "  [0.416 0.647 0.398 0.319 0.569 0.768 0.138 0.461 0.331 0.681]\n",
      "  [0.564 0.070 0.512 0.182 0.592 0.052 0.993 0.516 0.995 0.872]\n",
      "  [0.653 0.422 0.850 0.171 0.190 0.770 0.996 0.209 0.882 0.686]\n",
      "  [0.989 0.340 0.134 0.363 0.761 0.596 0.396 0.510 0.159 0.384]]\n",
      "\n",
      " [[0.194 0.480 0.143 0.614 0.996 0.011 0.800 0.427 0.652 0.871]\n",
      "  [0.852 0.406 0.760 0.745 0.712 0.143 0.711 0.789 0.490 0.275]\n",
      "  [0.508 0.841 0.169 0.201 0.138 0.495 0.858 0.928 0.525 0.146]\n",
      "  [0.613 0.772 0.064 0.697 0.832 0.707 0.930 0.447 0.528 0.721]\n",
      "  [0.111 0.393 0.741 0.519 0.644 0.505 0.031 0.093 0.969 0.622]\n",
      "  [0.105 0.077 0.085 0.132 0.055 0.800 0.751 0.371 0.961 0.206]\n",
      "  [0.892 0.177 0.055 0.777 0.340 0.715 0.759 0.263 0.657 0.873]\n",
      "  [0.323 0.379 0.006 0.024 0.530 0.088 0.717 0.410 0.835 0.558]\n",
      "  [0.160 0.275 0.937 0.188 0.622 0.110 0.465 0.794 0.744 0.958]\n",
      "  [0.630 0.478 0.732 0.204 0.454 0.705 0.974 0.048 0.303 0.239]]\n",
      "\n",
      " [[0.270 0.796 0.746 0.709 0.550 0.159 0.551 0.131 0.353 0.475]\n",
      "  [0.379 0.415 0.407 0.877 0.134 0.306 0.788 0.754 0.458 0.055]\n",
      "  [0.350 0.970 0.823 0.809 0.488 0.317 0.010 0.320 0.341 0.224]\n",
      "  [0.504 0.109 0.359 0.955 0.031 0.233 0.635 0.586 0.098 0.364]\n",
      "  [0.764 0.504 0.530 0.916 0.979 0.778 0.438 0.536 0.182 0.612]\n",
      "  [0.346 0.862 0.821 0.791 0.630 0.290 0.741 0.106 0.898 0.586]\n",
      "  [0.552 0.653 0.783 0.037 0.621 0.237 0.830 0.638 0.678 0.061]\n",
      "  [0.653 0.620 0.562 0.927 0.940 0.728 0.239 0.395 0.741 0.076]\n",
      "  [0.865 0.020 0.367 0.233 0.606 0.316 0.397 0.904 0.720 0.825]\n",
      "  [0.919 0.322 0.786 0.839 0.469 0.545 0.221 0.787 0.230 0.603]]\n",
      "\n",
      " [[0.180 0.465 0.905 0.664 0.639 0.687 0.003 0.731 0.289 0.464]\n",
      "  [0.919 0.053 0.714 0.743 0.907 0.095 0.743 0.974 0.328 0.576]\n",
      "  [0.583 0.824 0.839 0.093 0.328 0.611 0.146 0.571 0.531 0.913]\n",
      "  [0.324 0.985 0.413 0.430 0.750 0.596 0.125 0.440 0.142 0.391]\n",
      "  [0.940 0.908 0.980 0.576 0.428 0.599 0.955 0.920 0.126 0.137]\n",
      "  [0.261 0.334 0.657 0.228 0.823 0.860 0.237 0.716 0.738 0.121]\n",
      "  [0.047 0.186 0.207 0.625 0.533 0.909 0.726 0.249 0.787 0.978]\n",
      "  [0.887 0.693 0.884 0.042 0.094 0.171 0.689 0.162 0.306 0.350]\n",
      "  [0.049 0.227 0.740 0.784 0.749 0.033 0.855 0.083 0.741 0.928]\n",
      "  [0.525 0.541 0.919 0.015 0.387 0.174 0.927 0.654 0.271 0.732]]]\n",
      "\n"
     ]
    }
   ],
   "source": [
    "# Initialization. Different intialization for different array types. Check documentation.\n",
    "a = np.random.random_sample( (N1,N2,N3) ) \n",
    "print('The NumPy array \\\"a\\\": \\n' , str(a) , NL , sep='')"
   ]
  },
  {
   "cell_type": "code",
   "execution_count": 4,
   "id": "8ae50314",
   "metadata": {},
   "outputs": [
    {
     "name": "stdout",
     "output_type": "stream",
     "text": [
      "The data type for all elements: float64\n",
      "The size of each element in memory in bytes: 8\n",
      "The total number of elements: 500\n",
      "The total number of dimensions: 3\n",
      "The shape or number of elements per dimension: (5, 10, 10)\n",
      "The maximum value of contained elements: 0.9959737977452803\n",
      "The minimum value of contained elements: 0.0028117880961360253\n",
      "\n"
     ]
    }
   ],
   "source": [
    "# Properties of NumPy array \"a\".\n",
    "print('The data type for all elements: '                , str(a.dtype)    , NL , \n",
    "      'The size of each element in memory in bytes: '   , str(a.itemsize) , NL , \n",
    "      'The total number of elements: '                  , str(a.size)     , NL , \n",
    "      'The total number of dimensions: '                , str(a.ndim)     , NL , \n",
    "      'The shape or number of elements per dimension: ' , str(a.shape)    , NL , \n",
    "      'The maximum value of contained elements: '       , str(a.max())    , NL , \n",
    "      'The minimum value of contained elements: '       , str(a.min())    , NL , sep='')"
   ]
  },
  {
   "cell_type": "markdown",
   "id": "ce0320e0",
   "metadata": {
    "tags": []
   },
   "source": [
    "## Indexing/Slicing to access elements"
   ]
  },
  {
   "cell_type": "raw",
   "id": "57c23e09-3698-4176-874a-a86dfa39e663",
   "metadata": {},
   "source": [
    "Indexing and Slicing to access elements. Uses \"0 indexing\" meaning first element of each dimension is referenced with number \"0\". Negative numbers start at the end of each dimension. The notation [start:stop:step] is known as a \"slice\" and can be used for granular control when indexing a specific axis.\n",
    "\n",
    "Reference: NumPy Documentation v1.22\n",
    "URL: https://numpy.org/doc/stable/user/basics.indexing.html \n",
    "Quote: \"All arrays generated by basic slicing are always views of the original array.\"\n",
    "Comment: A \"view\" is an array whose elements point to the corresponding elements in the indexed array. This is relevant later on when we learn about boolean array masking where we are manipulating the values of an array."
   ]
  },
  {
   "cell_type": "code",
   "execution_count": 5,
   "id": "33b44931",
   "metadata": {},
   "outputs": [
    {
     "name": "stdout",
     "output_type": "stream",
     "text": [
      "First element(s): (0.3451339077231168, 0.7587127651752653, 0.19407314287004906)\n",
      "Last element(s):  (0.5826849265377851, 0.38422577518608825, 0.23925693640750267)\n",
      "\n"
     ]
    }
   ],
   "source": [
    "# Get a specific element using a[d1,d2,...,dn] notation.\n",
    "print('First element(s): ' , str((a[0,0,0]  , a[1,0,0]  , a[2,0,0]))   , NL , \n",
    "      'Last element(s):  ' , str((a[0,-1,-1], a[1,-1,-1], a[2,-1,-1])) , NL , sep='')"
   ]
  },
  {
   "cell_type": "code",
   "execution_count": 6,
   "id": "ca211829",
   "metadata": {},
   "outputs": [
    {
     "name": "stdout",
     "output_type": "stream",
     "text": [
      "First row(s): \n",
      "[0.345 0.037 0.804 0.180 0.355 0.121 0.544 0.936 0.830 0.916]\n",
      "\n",
      "Last row(s):  \n",
      "[0.338 0.213 0.936 0.136 0.617 0.773 0.030 0.831 0.427 0.583]\n",
      "\n"
     ]
    }
   ],
   "source": [
    "# Get a specific 'row'. ':' used to select all elements of specified dimension.\n",
    "print('First row(s): \\n' , str(a[0,0,:])  , NL*LS , \n",
    "      'Last row(s):  \\n' , str(a[0,-1,:]) , NL , sep='')"
   ]
  },
  {
   "cell_type": "code",
   "execution_count": 7,
   "id": "1d031d71",
   "metadata": {},
   "outputs": [
    {
     "name": "stdout",
     "output_type": "stream",
     "text": [
      "First column(s): \n",
      "[0.345 0.077 0.548 0.081 0.344 0.149 0.848 0.415 0.846 0.338]\n",
      "\n",
      "Last column(s):  \n",
      "[0.916 0.826 0.095 0.910 0.880 0.796 0.985 0.122 0.082 0.583]\n",
      "\n"
     ]
    }
   ],
   "source": [
    "# Get a specific 'column'.\n",
    "print('First column(s): \\n' , str(a[0,:,0])  , NL*LS , \n",
    "      'Last column(s):  \\n' , str(a[0,:,-1]) , NL , sep='')"
   ]
  },
  {
   "cell_type": "code",
   "execution_count": 8,
   "id": "6d4525f0",
   "metadata": {},
   "outputs": [
    {
     "name": "stdout",
     "output_type": "stream",
     "text": [
      "First table(s): \n",
      "[[0.345 0.037 0.804 0.180 0.355 0.121 0.544 0.936 0.830 0.916]\n",
      " [0.077 0.964 0.317 0.793 0.491 0.776 0.450 0.322 0.482 0.826]\n",
      " [0.548 0.907 0.787 0.338 0.654 0.017 0.726 0.563 0.694 0.095]\n",
      " [0.081 0.273 0.865 0.577 0.544 0.418 0.156 0.914 0.764 0.910]\n",
      " [0.344 0.359 0.568 0.763 0.963 0.766 0.901 0.263 0.031 0.880]\n",
      " [0.149 0.973 0.474 0.482 0.826 0.154 0.103 0.600 0.594 0.796]\n",
      " [0.848 0.317 0.417 0.617 0.499 0.840 0.636 0.218 0.675 0.985]\n",
      " [0.415 0.568 0.672 0.240 0.364 0.158 0.547 0.442 0.707 0.122]\n",
      " [0.846 0.096 0.712 0.450 0.105 0.236 0.035 0.112 0.743 0.082]\n",
      " [0.338 0.213 0.936 0.136 0.617 0.773 0.030 0.831 0.427 0.583]]\n",
      "\n",
      "Last table(s):  \n",
      "[[0.180 0.465 0.905 0.664 0.639 0.687 0.003 0.731 0.289 0.464]\n",
      " [0.919 0.053 0.714 0.743 0.907 0.095 0.743 0.974 0.328 0.576]\n",
      " [0.583 0.824 0.839 0.093 0.328 0.611 0.146 0.571 0.531 0.913]\n",
      " [0.324 0.985 0.413 0.430 0.750 0.596 0.125 0.440 0.142 0.391]\n",
      " [0.940 0.908 0.980 0.576 0.428 0.599 0.955 0.920 0.126 0.137]\n",
      " [0.261 0.334 0.657 0.228 0.823 0.860 0.237 0.716 0.738 0.121]\n",
      " [0.047 0.186 0.207 0.625 0.533 0.909 0.726 0.249 0.787 0.978]\n",
      " [0.887 0.693 0.884 0.042 0.094 0.171 0.689 0.162 0.306 0.350]\n",
      " [0.049 0.227 0.740 0.784 0.749 0.033 0.855 0.083 0.741 0.928]\n",
      " [0.525 0.541 0.919 0.015 0.387 0.174 0.927 0.654 0.271 0.732]]\n",
      "\n"
     ]
    }
   ],
   "source": [
    "# Get a specific 'table'.\n",
    "print('First table(s): \\n' , str(a[0,:,:])  , NL*LS , \n",
    "      'Last table(s):  \\n' , str(a[-1,:,:]) , NL , sep='')"
   ]
  },
  {
   "cell_type": "code",
   "execution_count": 9,
   "id": "50ea9571",
   "metadata": {},
   "outputs": [
    {
     "name": "stdout",
     "output_type": "stream",
     "text": [
      "First row, every other element: \n",
      "[0.345 0.804 0.355 0.544 0.830]\n",
      "\n",
      "Last row, every other element:  \n",
      "[0.338 0.936 0.617 0.030 0.427]\n",
      "\n"
     ]
    }
   ],
   "source": [
    "# Granular indexing or 'slicing' using \n",
    "# a[d1=startindex:endindex:stepsize,d2,...,dn] notation.\n",
    "print('First row, every other element: \\n' , str(a[0,0,0:-1:2])  , NL*LS , \n",
    "      'Last row, every other element:  \\n' , str(a[0,-1,0:-1:2]) , NL , sep='')"
   ]
  },
  {
   "cell_type": "markdown",
   "id": "82d4e7e2",
   "metadata": {
    "tags": []
   },
   "source": [
    "## More Initialization Examples"
   ]
  },
  {
   "cell_type": "markdown",
   "id": "495748f1-e0b0-4dee-afa0-15fd8c766cc7",
   "metadata": {
    "tags": []
   },
   "source": [
    "### Basic Initialization"
   ]
  },
  {
   "cell_type": "code",
   "execution_count": 10,
   "id": "3c3c83f6",
   "metadata": {},
   "outputs": [
    {
     "name": "stdout",
     "output_type": "stream",
     "text": [
      "All elements initiated as zeros: \n",
      "[[0 0 0 0 0]\n",
      " [0 0 0 0 0]\n",
      " [0 0 0 0 0]\n",
      " [0 0 0 0 0]\n",
      " [0 0 0 0 0]]\n",
      "\n"
     ]
    }
   ],
   "source": [
    "# More array initialization examples.\n",
    "\n",
    "# All elements initiated as zeros.\n",
    "print('All elements initiated as zeros: \\n' , \n",
    "      str(np.zeros((N1,N1), dtype='int32')) , NL , sep='')"
   ]
  },
  {
   "cell_type": "code",
   "execution_count": 11,
   "id": "225571f7",
   "metadata": {},
   "outputs": [
    {
     "name": "stdout",
     "output_type": "stream",
     "text": [
      "All elements initiated as ones: \n",
      "[[1 1 1 1 1]\n",
      " [1 1 1 1 1]\n",
      " [1 1 1 1 1]\n",
      " [1 1 1 1 1]\n",
      " [1 1 1 1 1]]\n",
      "\n"
     ]
    }
   ],
   "source": [
    "# All elements initiated as ones.\n",
    "print('All elements initiated as ones: \\n' , \n",
    "      str(np.ones((N1,N1), dtype='int32')) , NL , sep='')"
   ]
  },
  {
   "cell_type": "code",
   "execution_count": 12,
   "id": "3ebea8fd",
   "metadata": {},
   "outputs": [
    {
     "name": "stdout",
     "output_type": "stream",
     "text": [
      "All elements initiated as a specified value: \n",
      "[[10.000 10.000 10.000 10.000 10.000]\n",
      " [10.000 10.000 10.000 10.000 10.000]\n",
      " [10.000 10.000 10.000 10.000 10.000]\n",
      " [10.000 10.000 10.000 10.000 10.000]\n",
      " [10.000 10.000 10.000 10.000 10.000]]\n",
      "\n"
     ]
    }
   ],
   "source": [
    "# All elements initiated as a specified value.\n",
    "print('All elements initiated as a specified value: \\n' , \n",
    "      str(np.full((N1,N1), N2, dtype='float32')) , NL , sep='')"
   ]
  },
  {
   "cell_type": "code",
   "execution_count": 13,
   "id": "3c264b1e",
   "metadata": {},
   "outputs": [
    {
     "name": "stdout",
     "output_type": "stream",
     "text": [
      "All elements initiated as a letter: \n",
      "[['a' 'a' 'a' 'a' 'a']\n",
      " ['a' 'a' 'a' 'a' 'a']\n",
      " ['a' 'a' 'a' 'a' 'a']\n",
      " ['a' 'a' 'a' 'a' 'a']\n",
      " ['a' 'a' 'a' 'a' 'a']]\n",
      "\n"
     ]
    }
   ],
   "source": [
    "# All elements initiated as a letter.\n",
    "print('All elements initiated as a letter: \\n' , \n",
    "      str(np.full((N1,N1), 'a')) , NL , sep='')"
   ]
  },
  {
   "cell_type": "code",
   "execution_count": 14,
   "id": "7c21d2a0",
   "metadata": {},
   "outputs": [
    {
     "name": "stdout",
     "output_type": "stream",
     "text": [
      "All elements initiated as a \"full like\" matrix: \n",
      "[[5.000 5.000 5.000 5.000 5.000 5.000 5.000 5.000 5.000 5.000]\n",
      " [5.000 5.000 5.000 5.000 5.000 5.000 5.000 5.000 5.000 5.000]\n",
      " [5.000 5.000 5.000 5.000 5.000 5.000 5.000 5.000 5.000 5.000]\n",
      " [5.000 5.000 5.000 5.000 5.000 5.000 5.000 5.000 5.000 5.000]\n",
      " [5.000 5.000 5.000 5.000 5.000 5.000 5.000 5.000 5.000 5.000]\n",
      " [5.000 5.000 5.000 5.000 5.000 5.000 5.000 5.000 5.000 5.000]\n",
      " [5.000 5.000 5.000 5.000 5.000 5.000 5.000 5.000 5.000 5.000]\n",
      " [5.000 5.000 5.000 5.000 5.000 5.000 5.000 5.000 5.000 5.000]\n",
      " [5.000 5.000 5.000 5.000 5.000 5.000 5.000 5.000 5.000 5.000]\n",
      " [5.000 5.000 5.000 5.000 5.000 5.000 5.000 5.000 5.000 5.000]]\n",
      "\n"
     ]
    }
   ],
   "source": [
    "# Initialize an array using an exisiting array as an example.\n",
    "print('All elements initiated as a \\\"full like\\\" matrix: \\n' , \n",
    "      str(np.full_like(a[0],N1)) , NL , sep='')"
   ]
  },
  {
   "cell_type": "code",
   "execution_count": 15,
   "id": "22335706",
   "metadata": {},
   "outputs": [
    {
     "name": "stdout",
     "output_type": "stream",
     "text": [
      "Initiated 2D Identity Matrix: \n",
      "[[1.000 0.000 0.000 0.000 0.000]\n",
      " [0.000 1.000 0.000 0.000 0.000]\n",
      " [0.000 0.000 1.000 0.000 0.000]\n",
      " [0.000 0.000 0.000 1.000 0.000]\n",
      " [0.000 0.000 0.000 0.000 1.000]]\n",
      "\n"
     ]
    }
   ],
   "source": [
    "# 2D Identity Matrix.\n",
    "print('Initiated 2D Identity Matrix: \\n' , str(np.identity(N1)) , NL , sep='')"
   ]
  },
  {
   "cell_type": "raw",
   "id": "26d6f5b5-8d86-4f7b-b608-2acb6f38e43c",
   "metadata": {},
   "source": [
    "Repeating array. This is tricky due to the indexing required for proper initialization. The second index for the array 'a' must be written as '0:1' so that it returns a 2D array with shape (1,N3). This allows specification of the axis that we want repeated as shown in the first example where 'axis=0' is specified. If the indexing is written as '0' then a 1D array is returned with shape '(N3,)' and does not allow row repetition, only element repetition as shown in the following statement."
   ]
  },
  {
   "cell_type": "code",
   "execution_count": 16,
   "id": "a710163c",
   "metadata": {},
   "outputs": [
    {
     "name": "stdout",
     "output_type": "stream",
     "text": [
      "First row of array \"a\" repeated N1 times: \n",
      "[[0.345 0.037 0.804 0.180 0.355 0.121 0.544 0.936 0.830 0.916]\n",
      " [0.345 0.037 0.804 0.180 0.355 0.121 0.544 0.936 0.830 0.916]\n",
      " [0.345 0.037 0.804 0.180 0.355 0.121 0.544 0.936 0.830 0.916]\n",
      " [0.345 0.037 0.804 0.180 0.355 0.121 0.544 0.936 0.830 0.916]\n",
      " [0.345 0.037 0.804 0.180 0.355 0.121 0.544 0.936 0.830 0.916]]\n",
      "\n",
      "First row elements of array \"a\" repeated N1 times: \n",
      "[0.345 0.345 0.345 0.345 0.345 0.037 0.037 0.037 0.037 0.037 0.804 0.804\n",
      " 0.804 0.804 0.804 0.180 0.180 0.180 0.180 0.180 0.355 0.355 0.355 0.355\n",
      " 0.355 0.121 0.121 0.121 0.121 0.121 0.544 0.544 0.544 0.544 0.544 0.936\n",
      " 0.936 0.936 0.936 0.936 0.830 0.830 0.830 0.830 0.830 0.916 0.916 0.916\n",
      " 0.916 0.916]\n",
      "\n"
     ]
    }
   ],
   "source": [
    "print('First row of array \\\"a\\\" repeated N1 times: \\n' , \n",
    "      str(np.repeat(a[0,0:1,:],N1,axis=0)) , NL*LS , \n",
    "      'First row elements of array \\\"a\\\" repeated N1 times: \\n' , \n",
    "      str(np.repeat(a[0,0,:],N1))          , NL , sep='')"
   ]
  },
  {
   "cell_type": "markdown",
   "id": "9297390d",
   "metadata": {
    "tags": []
   },
   "source": [
    "### Special Initialization"
   ]
  },
  {
   "cell_type": "raw",
   "id": "858d2507-2c9c-4d3f-95bc-0d98925adccd",
   "metadata": {},
   "source": [
    "Lets put our knowledge of array initialization to the test.\n",
    "\n",
    "We are going to create the following array:\n",
    "[[1.,1.,1.,1.,1.]\n",
    " [1.,0.,0.,0.,1.]\n",
    " [1.,0.,9.,0.,1.]\n",
    " [1.,0.,0.,0.,1.]\n",
    " [1.,1.,1.,1.,1.]]\n",
    "This will scale to any shape as long as both dimensions have odd size."
   ]
  },
  {
   "cell_type": "code",
   "execution_count": 17,
   "id": "e7f79560",
   "metadata": {},
   "outputs": [
    {
     "name": "stdout",
     "output_type": "stream",
     "text": [
      "Array \"testIndex\": \n",
      "[[1 1 1 1 1]\n",
      " [1 1 1 1 1]\n",
      " [1 1 1 1 1]\n",
      " [1 1 1 1 1]\n",
      " [1 1 1 1 1]]\n",
      "\n"
     ]
    }
   ],
   "source": [
    "# Start with array full of ones.\n",
    "testShape = (N1,N1)\n",
    "testIndex = np.ones(testShape, dtype='int32')\n",
    "print('Array \\\"testIndex\\\": \\n' , str(testIndex) , NL , sep='')"
   ]
  },
  {
   "cell_type": "code",
   "execution_count": 18,
   "id": "f59eecff",
   "metadata": {},
   "outputs": [
    {
     "name": "stdout",
     "output_type": "stream",
     "text": [
      "Modified \"testIndex\": \n",
      "[[1 1 1 1 1]\n",
      " [1 0 0 0 1]\n",
      " [1 0 0 0 1]\n",
      " [1 0 0 0 1]\n",
      " [1 1 1 1 1]]\n",
      "\n"
     ]
    }
   ],
   "source": [
    "# Fill the inside with zeros.\n",
    "testIndex[1:testShape[0]-1,1:testShape[1]-1] = np.zeros((testShape[0]-2,testShape[1]-2), dtype='float32')\n",
    "print('Modified \\\"testIndex\\\": \\n' , str(testIndex) , NL , sep='')"
   ]
  },
  {
   "cell_type": "code",
   "execution_count": 19,
   "id": "482ad2bb",
   "metadata": {},
   "outputs": [
    {
     "name": "stdout",
     "output_type": "stream",
     "text": [
      "Final \"testArrray\": \n",
      "[[1 1 1 1 1]\n",
      " [1 0 0 0 1]\n",
      " [1 0 9 0 1]\n",
      " [1 0 0 0 1]\n",
      " [1 1 1 1 1]]\n",
      "\n"
     ]
    }
   ],
   "source": [
    "# Assign the middle value to 9 and we're done.\n",
    "testIndex[testShape[0]//2,testShape[1]//2] = 9.\n",
    "print('Final \\\"testArrray\\\": \\n' , str(testIndex) , NL , sep='')"
   ]
  },
  {
   "cell_type": "markdown",
   "id": "e3762f83",
   "metadata": {
    "tags": []
   },
   "source": [
    "## Assignment is NOT copying"
   ]
  },
  {
   "cell_type": "raw",
   "id": "9e40e633-5b65-4271-bdc3-e141bc828448",
   "metadata": {},
   "source": [
    "This section shows the important distinction between assignment and proper initialization of a NumPy array or any variable for that matter. You may be altering the contents of an array when you do not want to and being consciencious about when you are using assignment vs array initialization is the key to preventing this type of error."
   ]
  },
  {
   "cell_type": "code",
   "execution_count": 20,
   "id": "7f2912bd",
   "metadata": {},
   "outputs": [
    {
     "name": "stdout",
     "output_type": "stream",
     "text": [
      "Array \"testA\": \n",
      "[[0 0 0 0 0]\n",
      " [0 0 0 0 0]\n",
      " [0 0 0 0 0]\n",
      " [0 0 0 0 0]\n",
      " [0 0 0 0 0]]\n",
      "\n",
      "Array \"testB\": \n",
      "[[0 0 0 0 0]\n",
      " [0 0 0 0 0]\n",
      " [0 0 0 0 0]\n",
      " [0 0 0 0 0]\n",
      " [0 0 0 0 0]]\n",
      "\n"
     ]
    }
   ],
   "source": [
    "# Lets start by initializing an array as testA and assigning it to a different \n",
    "# variable called testB.\n",
    "\n",
    "testA = np.zeros((N1,N1), dtype='int32')\n",
    "testB = testA\n",
    "\n",
    "print('Array \\\"testA\\\": \\n' , str(testA) , NL*LS , \n",
    "      'Array \\\"testB\\\": \\n' , str(testB) , NL , sep='')"
   ]
  },
  {
   "cell_type": "code",
   "execution_count": 21,
   "id": "d57aa034",
   "metadata": {},
   "outputs": [
    {
     "name": "stdout",
     "output_type": "stream",
     "text": [
      "First Test: Change value in \"testB\" and check result.\n",
      "\n",
      "Array \"testA\": \n",
      "[[10 10 10 10 10]\n",
      " [ 0  0  0  0  0]\n",
      " [ 0  0  0  0  0]\n",
      " [ 0  0  0  0  0]\n",
      " [ 0  0  0  0  0]]\n",
      "\n",
      "Array \"testB\": \n",
      "[[10 10 10 10 10]\n",
      " [ 0  0  0  0  0]\n",
      " [ 0  0  0  0  0]\n",
      " [ 0  0  0  0  0]\n",
      " [ 0  0  0  0  0]]\n",
      "\n"
     ]
    }
   ],
   "source": [
    "# Alright. We now have two variables that point to an array. Lets try changing\n",
    "# the values in the array that testB is assigned to.\n",
    "testB[0,:] = N2\n",
    "print('First Test: Change value in \\\"testB\\\" and check result.' , NL*LS , \n",
    "      'Array \\\"testA\\\": \\n' , str(testA) , NL*LS , \n",
    "      'Array \\\"testB\\\": \\n' , str(testB) , NL , sep='')"
   ]
  },
  {
   "cell_type": "raw",
   "id": "b6f7e776-d85e-4e16-8991-31711f8d4ad6",
   "metadata": {},
   "source": [
    "Oh. That is NOT good. Changing the values in testB is the same as changing values in testA because they both point to the exact same array in memory. We 'assigned' testB to the array that was 'initialized' when defining testA. If we want to make a proper 'copy' of the array that testA is assigned to then we need to 'initialize' a new array using a method of numpy arrays called 'copy'."
   ]
  },
  {
   "cell_type": "code",
   "execution_count": 22,
   "id": "dc80a627",
   "metadata": {},
   "outputs": [
    {
     "name": "stdout",
     "output_type": "stream",
     "text": [
      "Second Test: Change value in testB and check result.\n",
      "\n",
      "Array testA: \n",
      "[[0 0 0 0 0]\n",
      " [0 0 0 0 0]\n",
      " [0 0 0 0 0]\n",
      " [0 0 0 0 0]\n",
      " [0 0 0 0 0]]\n",
      "\n",
      "Array testB: \n",
      "[[10 10 10 10 10]\n",
      " [ 0  0  0  0  0]\n",
      " [ 0  0  0  0  0]\n",
      " [ 0  0  0  0  0]\n",
      " [ 0  0  0  0  0]]\n",
      "\n"
     ]
    }
   ],
   "source": [
    "# Initialize new arrays and test the difference.\n",
    "testA = np.zeros((N1,N1), dtype='int32')\n",
    "testB = testA.copy()\n",
    "\n",
    "# Now we have two initialized arrays that are identical in value but stored in \n",
    "# separate memory locations. Changing one does not change the other.\n",
    "testB[0,:] = N2\n",
    "print('Second Test: Change value in testB and check result.' , NL*LS , \n",
    "      'Array testA: \\n' , str(testA) , NL*LS , \n",
    "      'Array testB: \\n' , str(testB) , NL , sep='')"
   ]
  },
  {
   "cell_type": "markdown",
   "id": "5e8591c1",
   "metadata": {
    "tags": []
   },
   "source": [
    "## Advanced Indexing"
   ]
  },
  {
   "cell_type": "raw",
   "id": "256bc345-9777-4644-aaa6-993624656ebc",
   "metadata": {},
   "source": [
    "NumPy arrays can be indexed using NumPy arrays or any list/tuple/etc. Wild stuff. \n",
    "We can create useful NumPy arrays for indexing using boolean operators on an \n",
    "array that determines whether each element in an array satisfies a given \n",
    "condition. It initiates a boolean 'mask' that is an array with the same shape as \n",
    "the original array and contains either a \"True\" (1) or \"False\" (0) value for every\n",
    "element denoting whether the corresponding element from the original array \n",
    "satisfied the given condition."
   ]
  },
  {
   "cell_type": "code",
   "execution_count": 23,
   "id": "90121501",
   "metadata": {},
   "outputs": [
    {
     "name": "stdout",
     "output_type": "stream",
     "text": [
      "aMaskHalfMax.shape: (5, 10, 10)\n",
      "aMaskHalfMax.size:  500\n",
      "aMaskHalfMax: \n",
      "[[[False False  True False False False  True  True  True  True]\n",
      "  [False  True False  True False  True False False False  True]\n",
      "  [ True  True  True False  True False  True  True  True False]\n",
      "  [False False  True  True  True False False  True  True  True]\n",
      "  [False False  True  True  True  True  True False False  True]\n",
      "  [False  True False False  True False False  True  True  True]\n",
      "  [ True False False  True  True  True  True False  True  True]\n",
      "  [False  True  True False False False  True False  True False]\n",
      "  [ True False  True False False False False False  True False]\n",
      "  [False False  True False  True  True False  True False  True]]\n",
      "\n",
      " [[ True  True  True  True  True False  True  True False  True]\n",
      "  [ True False False False  True False False False False  True]\n",
      "  [False False False False  True  True False  True  True False]\n",
      "  [ True  True  True  True  True False  True  True  True  True]\n",
      "  [False  True False  True  True False False  True False False]\n",
      "  [ True  True False False False  True False  True  True False]\n",
      "  [False  True False False  True  True False False False  True]\n",
      "  [ True False  True False  True False  True  True  True  True]\n",
      "  [ True False  True False False  True  True False  True  True]\n",
      "  [ True False False False  True  True False  True False False]]\n",
      "\n",
      " [[False False False  True  True False  True False  True  True]\n",
      "  [ True False  True  True  True False  True  True False False]\n",
      "  [ True  True False False False False  True  True  True False]\n",
      "  [ True  True False  True  True  True  True False  True  True]\n",
      "  [False False  True  True  True  True False False  True  True]\n",
      "  [False False False False False  True  True False  True False]\n",
      "  [ True False False  True False  True  True False  True  True]\n",
      "  [False False False False  True False  True False  True  True]\n",
      "  [False False  True False  True False False  True  True  True]\n",
      "  [ True False  True False False  True  True False False False]]\n",
      "\n",
      " [[False  True  True  True  True False  True False False False]\n",
      "  [False False False  True False False  True  True False False]\n",
      "  [False  True  True  True False False False False False False]\n",
      "  [ True False False  True False False  True  True False False]\n",
      "  [ True  True  True  True  True  True False  True False  True]\n",
      "  [False  True  True  True  True False  True False  True  True]\n",
      "  [ True  True  True False  True False  True  True  True False]\n",
      "  [ True  True  True  True  True  True False False  True False]\n",
      "  [ True False False False  True False False  True  True  True]\n",
      "  [ True False  True  True False  True False  True False  True]]\n",
      "\n",
      " [[False False  True  True  True  True False  True False False]\n",
      "  [ True False  True  True  True False  True  True False  True]\n",
      "  [ True  True  True False False  True False  True  True  True]\n",
      "  [False  True False False  True  True False False False False]\n",
      "  [ True  True  True  True False  True  True  True False False]\n",
      "  [False False  True False  True  True False  True  True False]\n",
      "  [False False False  True  True  True  True False  True  True]\n",
      "  [ True  True  True False False False  True False False False]\n",
      "  [False False  True  True  True False  True False  True  True]\n",
      "  [ True  True  True False False False  True  True False  True]]]\n",
      "\n",
      "\n"
     ]
    }
   ],
   "source": [
    "# Find every element in the array 'a' that has a value greater than a.max()/2\n",
    "# This statement initiates a boolean mask array according to the provided condition.\n",
    "aMaskHalfMax = (a > (a.max()/2))\n",
    "print('aMaskHalfMax.shape: ' , str(aMaskHalfMax.shape) , NL , \n",
    "      'aMaskHalfMax.size:  ' , str(aMaskHalfMax.size)  , NL , \n",
    "      'aMaskHalfMax: \\n'     , str(aMaskHalfMax)       , NL*LS , sep='')"
   ]
  },
  {
   "cell_type": "code",
   "execution_count": 24,
   "id": "ae4e2ed3-146f-4526-bdd4-9da3a263dc92",
   "metadata": {},
   "outputs": [
    {
     "name": "stdout",
     "output_type": "stream",
     "text": [
      "aIndexMaskHalfMax.shape: (269,)\n",
      "aIndexMaskHalfMax.size:  269\n",
      "aIndexMaskHalfMax: \n",
      "[0.804 0.544 0.936 0.830 0.916 0.964 0.793 0.776 0.826 0.548 0.907 0.787\n",
      " 0.654 0.726 0.563 0.694 0.865 0.577 0.544 0.914 0.764 0.910 0.568 0.763\n",
      " 0.963 0.766 0.901 0.880 0.973 0.826 0.600 0.594 0.796 0.848 0.617 0.499\n",
      " 0.840 0.636 0.675 0.985 0.568 0.672 0.547 0.707 0.846 0.712 0.743 0.936\n",
      " 0.617 0.773 0.831 0.583 0.759 0.780 0.940 0.786 0.785 0.719 0.611 0.651\n",
      " 0.712 0.849 0.750 0.831 0.829 0.849 0.712 0.840 0.781 0.938 0.564 0.625\n",
      " 0.827 0.787 0.860 0.730 0.710 0.885 0.557 0.789 0.776 0.795 0.537 0.855\n",
      " 0.504 0.647 0.569 0.768 0.681 0.564 0.512 0.592 0.993 0.516 0.995 0.872\n",
      " 0.653 0.850 0.770 0.996 0.882 0.686 0.989 0.761 0.596 0.510 0.614 0.996\n",
      " 0.800 0.652 0.871 0.852 0.760 0.745 0.712 0.711 0.789 0.508 0.841 0.858\n",
      " 0.928 0.525 0.613 0.772 0.697 0.832 0.707 0.930 0.528 0.721 0.741 0.519\n",
      " 0.644 0.505 0.969 0.622 0.800 0.751 0.961 0.892 0.777 0.715 0.759 0.657\n",
      " 0.873 0.530 0.717 0.835 0.558 0.937 0.622 0.794 0.744 0.958 0.630 0.732\n",
      " 0.705 0.974 0.796 0.746 0.709 0.550 0.551 0.877 0.788 0.754 0.970 0.823\n",
      " 0.809 0.504 0.955 0.635 0.586 0.764 0.504 0.530 0.916 0.979 0.778 0.536\n",
      " 0.612 0.862 0.821 0.791 0.630 0.741 0.898 0.586 0.552 0.653 0.783 0.621\n",
      " 0.830 0.638 0.678 0.653 0.620 0.562 0.927 0.940 0.728 0.741 0.865 0.606\n",
      " 0.904 0.720 0.825 0.919 0.786 0.839 0.545 0.787 0.603 0.905 0.664 0.639\n",
      " 0.687 0.731 0.919 0.714 0.743 0.907 0.743 0.974 0.576 0.583 0.824 0.839\n",
      " 0.611 0.571 0.531 0.913 0.985 0.750 0.596 0.940 0.908 0.980 0.576 0.599\n",
      " 0.955 0.920 0.657 0.823 0.860 0.716 0.738 0.625 0.533 0.909 0.726 0.787\n",
      " 0.978 0.887 0.693 0.884 0.689 0.740 0.784 0.749 0.855 0.741 0.928 0.525\n",
      " 0.541 0.919 0.927 0.654 0.732]\n",
      "\n"
     ]
    }
   ],
   "source": [
    "# Index array \"a\" using the created mask.\n",
    "aIndexMaskHalfMax = a[aMaskHalfMax]\n",
    "print('aIndexMaskHalfMax.shape: ' , str(aIndexMaskHalfMax.shape) , NL , \n",
    "      'aIndexMaskHalfMax.size:  ' , str(aIndexMaskHalfMax.size)  , NL , \n",
    "      'aIndexMaskHalfMax: \\n'     , str(aIndexMaskHalfMax)       , NL , sep='')"
   ]
  },
  {
   "cell_type": "code",
   "execution_count": 25,
   "id": "11e7dbb7",
   "metadata": {},
   "outputs": [
    {
     "name": "stdout",
     "output_type": "stream",
     "text": [
      "Turn the specified values to zero. \n",
      "[[[0.345 0.037 0.000 0.180 0.355 0.121 0.000 0.000 0.000 0.000]\n",
      "  [0.077 0.000 0.317 0.000 0.491 0.000 0.450 0.322 0.482 0.000]\n",
      "  [0.000 0.000 0.000 0.338 0.000 0.017 0.000 0.000 0.000 0.095]\n",
      "  [0.081 0.273 0.000 0.000 0.000 0.418 0.156 0.000 0.000 0.000]\n",
      "  [0.344 0.359 0.000 0.000 0.000 0.000 0.000 0.263 0.031 0.000]\n",
      "  [0.149 0.000 0.474 0.482 0.000 0.154 0.103 0.000 0.000 0.000]\n",
      "  [0.000 0.317 0.417 0.000 0.000 0.000 0.000 0.218 0.000 0.000]\n",
      "  [0.415 0.000 0.000 0.240 0.364 0.158 0.000 0.442 0.000 0.122]\n",
      "  [0.000 0.096 0.000 0.450 0.105 0.236 0.035 0.112 0.000 0.082]\n",
      "  [0.338 0.213 0.000 0.136 0.000 0.000 0.030 0.000 0.427 0.000]]\n",
      "\n",
      " [[0.000 0.000 0.000 0.000 0.000 0.063 0.000 0.000 0.343 0.000]\n",
      "  [0.000 0.492 0.416 0.086 0.000 0.327 0.066 0.365 0.022 0.000]\n",
      "  [0.107 0.421 0.121 0.058 0.000 0.000 0.042 0.000 0.000 0.198]\n",
      "  [0.000 0.000 0.000 0.000 0.000 0.324 0.000 0.000 0.000 0.000]\n",
      "  [0.259 0.000 0.250 0.000 0.000 0.314 0.434 0.000 0.147 0.203]\n",
      "  [0.000 0.000 0.491 0.279 0.455 0.000 0.230 0.000 0.000 0.319]\n",
      "  [0.416 0.000 0.398 0.319 0.000 0.000 0.138 0.461 0.331 0.000]\n",
      "  [0.000 0.070 0.000 0.182 0.000 0.052 0.000 0.000 0.000 0.000]\n",
      "  [0.000 0.422 0.000 0.171 0.190 0.000 0.000 0.209 0.000 0.000]\n",
      "  [0.000 0.340 0.134 0.363 0.000 0.000 0.396 0.000 0.159 0.384]]\n",
      "\n",
      " [[0.194 0.480 0.143 0.000 0.000 0.011 0.000 0.427 0.000 0.000]\n",
      "  [0.000 0.406 0.000 0.000 0.000 0.143 0.000 0.000 0.490 0.275]\n",
      "  [0.000 0.000 0.169 0.201 0.138 0.495 0.000 0.000 0.000 0.146]\n",
      "  [0.000 0.000 0.064 0.000 0.000 0.000 0.000 0.447 0.000 0.000]\n",
      "  [0.111 0.393 0.000 0.000 0.000 0.000 0.031 0.093 0.000 0.000]\n",
      "  [0.105 0.077 0.085 0.132 0.055 0.000 0.000 0.371 0.000 0.206]\n",
      "  [0.000 0.177 0.055 0.000 0.340 0.000 0.000 0.263 0.000 0.000]\n",
      "  [0.323 0.379 0.006 0.024 0.000 0.088 0.000 0.410 0.000 0.000]\n",
      "  [0.160 0.275 0.000 0.188 0.000 0.110 0.465 0.000 0.000 0.000]\n",
      "  [0.000 0.478 0.000 0.204 0.454 0.000 0.000 0.048 0.303 0.239]]\n",
      "\n",
      " [[0.270 0.000 0.000 0.000 0.000 0.159 0.000 0.131 0.353 0.475]\n",
      "  [0.379 0.415 0.407 0.000 0.134 0.306 0.000 0.000 0.458 0.055]\n",
      "  [0.350 0.000 0.000 0.000 0.488 0.317 0.010 0.320 0.341 0.224]\n",
      "  [0.000 0.109 0.359 0.000 0.031 0.233 0.000 0.000 0.098 0.364]\n",
      "  [0.000 0.000 0.000 0.000 0.000 0.000 0.438 0.000 0.182 0.000]\n",
      "  [0.346 0.000 0.000 0.000 0.000 0.290 0.000 0.106 0.000 0.000]\n",
      "  [0.000 0.000 0.000 0.037 0.000 0.237 0.000 0.000 0.000 0.061]\n",
      "  [0.000 0.000 0.000 0.000 0.000 0.000 0.239 0.395 0.000 0.076]\n",
      "  [0.000 0.020 0.367 0.233 0.000 0.316 0.397 0.000 0.000 0.000]\n",
      "  [0.000 0.322 0.000 0.000 0.469 0.000 0.221 0.000 0.230 0.000]]\n",
      "\n",
      " [[0.180 0.465 0.000 0.000 0.000 0.000 0.003 0.000 0.289 0.464]\n",
      "  [0.000 0.053 0.000 0.000 0.000 0.095 0.000 0.000 0.328 0.000]\n",
      "  [0.000 0.000 0.000 0.093 0.328 0.000 0.146 0.000 0.000 0.000]\n",
      "  [0.324 0.000 0.413 0.430 0.000 0.000 0.125 0.440 0.142 0.391]\n",
      "  [0.000 0.000 0.000 0.000 0.428 0.000 0.000 0.000 0.126 0.137]\n",
      "  [0.261 0.334 0.000 0.228 0.000 0.000 0.237 0.000 0.000 0.121]\n",
      "  [0.047 0.186 0.207 0.000 0.000 0.000 0.000 0.249 0.000 0.000]\n",
      "  [0.000 0.000 0.000 0.042 0.094 0.171 0.000 0.162 0.306 0.350]\n",
      "  [0.049 0.227 0.000 0.000 0.000 0.033 0.000 0.083 0.000 0.000]\n",
      "  [0.000 0.000 0.000 0.015 0.387 0.174 0.000 0.000 0.271 0.000]]]\n",
      "\n"
     ]
    }
   ],
   "source": [
    "# Create a copy of array \"a\" so that we can alter the contents.\n",
    "aTest = a.copy()\n",
    "\n",
    "# Turn the specified values to zero.\n",
    "aTest[aMaskHalfMax] = 0\n",
    "print('Turn the specified values to zero. \\n', str(aTest) , NL , sep='')"
   ]
  },
  {
   "cell_type": "code",
   "execution_count": 26,
   "id": "fd2801fd",
   "metadata": {},
   "outputs": [
    {
     "name": "stdout",
     "output_type": "stream",
     "text": [
      "Turn the specified values back to their original value. \n",
      "[[[0.345 0.037 0.804 0.180 0.355 0.121 0.544 0.936 0.830 0.916]\n",
      "  [0.077 0.964 0.317 0.793 0.491 0.776 0.450 0.322 0.482 0.826]\n",
      "  [0.548 0.907 0.787 0.338 0.654 0.017 0.726 0.563 0.694 0.095]\n",
      "  [0.081 0.273 0.865 0.577 0.544 0.418 0.156 0.914 0.764 0.910]\n",
      "  [0.344 0.359 0.568 0.763 0.963 0.766 0.901 0.263 0.031 0.880]\n",
      "  [0.149 0.973 0.474 0.482 0.826 0.154 0.103 0.600 0.594 0.796]\n",
      "  [0.848 0.317 0.417 0.617 0.499 0.840 0.636 0.218 0.675 0.985]\n",
      "  [0.415 0.568 0.672 0.240 0.364 0.158 0.547 0.442 0.707 0.122]\n",
      "  [0.846 0.096 0.712 0.450 0.105 0.236 0.035 0.112 0.743 0.082]\n",
      "  [0.338 0.213 0.936 0.136 0.617 0.773 0.030 0.831 0.427 0.583]]\n",
      "\n",
      " [[0.759 0.780 0.940 0.786 0.785 0.063 0.719 0.611 0.343 0.651]\n",
      "  [0.712 0.492 0.416 0.086 0.849 0.327 0.066 0.365 0.022 0.750]\n",
      "  [0.107 0.421 0.121 0.058 0.831 0.829 0.042 0.849 0.712 0.198]\n",
      "  [0.840 0.781 0.938 0.564 0.625 0.324 0.827 0.787 0.860 0.730]\n",
      "  [0.259 0.710 0.250 0.885 0.557 0.314 0.434 0.789 0.147 0.203]\n",
      "  [0.776 0.795 0.491 0.279 0.455 0.537 0.230 0.855 0.504 0.319]\n",
      "  [0.416 0.647 0.398 0.319 0.569 0.768 0.138 0.461 0.331 0.681]\n",
      "  [0.564 0.070 0.512 0.182 0.592 0.052 0.993 0.516 0.995 0.872]\n",
      "  [0.653 0.422 0.850 0.171 0.190 0.770 0.996 0.209 0.882 0.686]\n",
      "  [0.989 0.340 0.134 0.363 0.761 0.596 0.396 0.510 0.159 0.384]]\n",
      "\n",
      " [[0.194 0.480 0.143 0.614 0.996 0.011 0.800 0.427 0.652 0.871]\n",
      "  [0.852 0.406 0.760 0.745 0.712 0.143 0.711 0.789 0.490 0.275]\n",
      "  [0.508 0.841 0.169 0.201 0.138 0.495 0.858 0.928 0.525 0.146]\n",
      "  [0.613 0.772 0.064 0.697 0.832 0.707 0.930 0.447 0.528 0.721]\n",
      "  [0.111 0.393 0.741 0.519 0.644 0.505 0.031 0.093 0.969 0.622]\n",
      "  [0.105 0.077 0.085 0.132 0.055 0.800 0.751 0.371 0.961 0.206]\n",
      "  [0.892 0.177 0.055 0.777 0.340 0.715 0.759 0.263 0.657 0.873]\n",
      "  [0.323 0.379 0.006 0.024 0.530 0.088 0.717 0.410 0.835 0.558]\n",
      "  [0.160 0.275 0.937 0.188 0.622 0.110 0.465 0.794 0.744 0.958]\n",
      "  [0.630 0.478 0.732 0.204 0.454 0.705 0.974 0.048 0.303 0.239]]\n",
      "\n",
      " [[0.270 0.796 0.746 0.709 0.550 0.159 0.551 0.131 0.353 0.475]\n",
      "  [0.379 0.415 0.407 0.877 0.134 0.306 0.788 0.754 0.458 0.055]\n",
      "  [0.350 0.970 0.823 0.809 0.488 0.317 0.010 0.320 0.341 0.224]\n",
      "  [0.504 0.109 0.359 0.955 0.031 0.233 0.635 0.586 0.098 0.364]\n",
      "  [0.764 0.504 0.530 0.916 0.979 0.778 0.438 0.536 0.182 0.612]\n",
      "  [0.346 0.862 0.821 0.791 0.630 0.290 0.741 0.106 0.898 0.586]\n",
      "  [0.552 0.653 0.783 0.037 0.621 0.237 0.830 0.638 0.678 0.061]\n",
      "  [0.653 0.620 0.562 0.927 0.940 0.728 0.239 0.395 0.741 0.076]\n",
      "  [0.865 0.020 0.367 0.233 0.606 0.316 0.397 0.904 0.720 0.825]\n",
      "  [0.919 0.322 0.786 0.839 0.469 0.545 0.221 0.787 0.230 0.603]]\n",
      "\n",
      " [[0.180 0.465 0.905 0.664 0.639 0.687 0.003 0.731 0.289 0.464]\n",
      "  [0.919 0.053 0.714 0.743 0.907 0.095 0.743 0.974 0.328 0.576]\n",
      "  [0.583 0.824 0.839 0.093 0.328 0.611 0.146 0.571 0.531 0.913]\n",
      "  [0.324 0.985 0.413 0.430 0.750 0.596 0.125 0.440 0.142 0.391]\n",
      "  [0.940 0.908 0.980 0.576 0.428 0.599 0.955 0.920 0.126 0.137]\n",
      "  [0.261 0.334 0.657 0.228 0.823 0.860 0.237 0.716 0.738 0.121]\n",
      "  [0.047 0.186 0.207 0.625 0.533 0.909 0.726 0.249 0.787 0.978]\n",
      "  [0.887 0.693 0.884 0.042 0.094 0.171 0.689 0.162 0.306 0.350]\n",
      "  [0.049 0.227 0.740 0.784 0.749 0.033 0.855 0.083 0.741 0.928]\n",
      "  [0.525 0.541 0.919 0.015 0.387 0.174 0.927 0.654 0.271 0.732]]]\n",
      "\n"
     ]
    }
   ],
   "source": [
    "# Turn the specified values back to their original value.\n",
    "aTest[aMaskHalfMax] = aIndexMaskHalfMax\n",
    "print('Turn the specified values back to their original value. \\n' , str(aTest) , NL , sep='')"
   ]
  },
  {
   "cell_type": "code",
   "execution_count": 27,
   "id": "edf48b57",
   "metadata": {},
   "outputs": [
    {
     "name": "stdout",
     "output_type": "stream",
     "text": [
      "Do ANY elements of the tables in array \"a\" satisfy the given condition?\n",
      "aAnyHalfMax: [False  True False False False]\n",
      "This tells us that table [1] in array \"a\" contains the element with the maximum value.\n"
     ]
    }
   ],
   "source": [
    "# The function np.any() will find whether a given condition is satisfied by ANY\n",
    "# elements along the given axes. \n",
    "\n",
    "condition1  = (a == a.max())\n",
    "aAnyHalfMax = np.any(condition1, axis=(1,2))\n",
    "print('Do ANY elements of the tables in array \\\"a\\\" satisfy the given condition?' , NL ,\n",
    "      'aAnyHalfMax: ' , str(aAnyHalfMax) , NL , \n",
    "      'This tells us that table ' , np.where(aAnyHalfMax == True)[0] , \n",
    "      ' in array \\\"a\\\" contains the element with the maximum value.' , sep='')"
   ]
  },
  {
   "cell_type": "code",
   "execution_count": 28,
   "id": "2a24843a",
   "metadata": {},
   "outputs": [
    {
     "name": "stdout",
     "output_type": "stream",
     "text": [
      "Do ALL elements of the tables in array \"a\" satisfy the given condition?\n",
      "aAllInterval: [ True False  True  True  True]\n",
      "This tells us that table [1] contains the element in array \"a\" with the maximum value.\n"
     ]
    }
   ],
   "source": [
    "# The function np.all() will find whether a given condition is satisfied by ALL\n",
    "# elements along the given axes.\n",
    "\n",
    "# Create boolean mask array using the condition we are testing. \n",
    "# Then pass it to the function np.all and specify the axes.\n",
    "condition2   = (a < a.max())\n",
    "aAllLessMax = np.all(condition2, axis=(1,2))\n",
    "\n",
    "print('Do ALL elements of the tables in array \\\"a\\\" satisfy the given condition?' , NL , \n",
    "      'aAllInterval: ' , str(aAllLessMax) , NL , \n",
    "      'This tells us that table ' , np.where(aAllLessMax == False)[0] , \n",
    "      ' contains the element in array \\\"a\\\" with the maximum value.' , sep='')"
   ]
  },
  {
   "cell_type": "markdown",
   "id": "07e125c3",
   "metadata": {
    "tags": []
   },
   "source": [
    "## Mathematical Operations on NumPy arrays"
   ]
  },
  {
   "cell_type": "raw",
   "id": "00be3c60-0cd6-463d-896a-2e48e00117c7",
   "metadata": {},
   "source": [
    "Now we will look at the mathematical operations you can perform over the elements of a NumPy array. Arithmetic operations between a scalar and a NumPy array are generally 'elementwise' meaning they are applied to every element of the array individually. We do not need to loop over the array to apply the operation to all of its elements. This process is automated by the NumPy array. This is the reason we use NumPy arrays for data analysis as it simplifies the code and is more efficient in terms of its runtime/complexity."
   ]
  },
  {
   "cell_type": "markdown",
   "id": "ab7c2835-d541-4666-a08f-9a6cd02b0255",
   "metadata": {
    "tags": []
   },
   "source": [
    "### Arithmetic operations between scalar and NumPy array"
   ]
  },
  {
   "cell_type": "code",
   "execution_count": 29,
   "id": "7d968adb",
   "metadata": {},
   "outputs": [
    {
     "name": "stdout",
     "output_type": "stream",
     "text": [
      "Array b= \n",
      "[[5 5 5 5 5]\n",
      " [5 5 5 5 5]\n",
      " [5 5 5 5 5]\n",
      " [5 5 5 5 5]\n",
      " [5 5 5 5 5]]\n",
      "\n"
     ]
    }
   ],
   "source": [
    "# Initialize array for operations.\n",
    "b = np.full((N1,N1), N1 , dtype='int32')\n",
    "print('Array b= \\n' , str(b) , NL , sep='')"
   ]
  },
  {
   "cell_type": "code",
   "execution_count": 30,
   "id": "e94a43c5",
   "metadata": {},
   "outputs": [
    {
     "name": "stdout",
     "output_type": "stream",
     "text": [
      "Array b+5 = \n",
      "[[10 10 10 10 10]\n",
      " [10 10 10 10 10]\n",
      " [10 10 10 10 10]\n",
      " [10 10 10 10 10]\n",
      " [10 10 10 10 10]]\n",
      "\n"
     ]
    }
   ],
   "source": [
    "# Addition\n",
    "print('Array b+' , str(N1) , ' = \\n' , str(b+N1) , NL , sep='')"
   ]
  },
  {
   "cell_type": "code",
   "execution_count": 31,
   "id": "da9ba3d2",
   "metadata": {},
   "outputs": [
    {
     "name": "stdout",
     "output_type": "stream",
     "text": [
      "Array b-5 = \n",
      "[[0 0 0 0 0]\n",
      " [0 0 0 0 0]\n",
      " [0 0 0 0 0]\n",
      " [0 0 0 0 0]\n",
      " [0 0 0 0 0]]\n",
      "\n"
     ]
    }
   ],
   "source": [
    "# Subtraction\n",
    "print('Array b-' , str(N1) , ' = \\n' , str(b-N1) , NL , sep='')"
   ]
  },
  {
   "cell_type": "code",
   "execution_count": 32,
   "id": "11a602cd",
   "metadata": {},
   "outputs": [
    {
     "name": "stdout",
     "output_type": "stream",
     "text": [
      "Array b*5 = \n",
      "[[25 25 25 25 25]\n",
      " [25 25 25 25 25]\n",
      " [25 25 25 25 25]\n",
      " [25 25 25 25 25]\n",
      " [25 25 25 25 25]]\n",
      "\n"
     ]
    }
   ],
   "source": [
    "# Multiplication\n",
    "print('Array b*' , str(N1) , ' = \\n' , str(b*N1) , NL , sep='')"
   ]
  },
  {
   "cell_type": "code",
   "execution_count": 33,
   "id": "81da9f73",
   "metadata": {},
   "outputs": [
    {
     "name": "stdout",
     "output_type": "stream",
     "text": [
      "Array b/5 = \n",
      "[[1.000 1.000 1.000 1.000 1.000]\n",
      " [1.000 1.000 1.000 1.000 1.000]\n",
      " [1.000 1.000 1.000 1.000 1.000]\n",
      " [1.000 1.000 1.000 1.000 1.000]\n",
      " [1.000 1.000 1.000 1.000 1.000]]\n",
      "\n"
     ]
    }
   ],
   "source": [
    "# Division\n",
    "print('Array b/' , str(N1) , ' = \\n' , str(b/N1) , NL , sep='')"
   ]
  },
  {
   "cell_type": "code",
   "execution_count": 34,
   "id": "88101314",
   "metadata": {},
   "outputs": [
    {
     "name": "stdout",
     "output_type": "stream",
     "text": [
      "Array b^2 = \n",
      "[[25 25 25 25 25]\n",
      " [25 25 25 25 25]\n",
      " [25 25 25 25 25]\n",
      " [25 25 25 25 25]\n",
      " [25 25 25 25 25]]\n",
      "\n"
     ]
    }
   ],
   "source": [
    "# Exponentiation (Respresented using the '**' symbol)\n",
    "print('Array b^2 = \\n' , str(b**2) , NL , sep='')"
   ]
  },
  {
   "cell_type": "markdown",
   "id": "05c537a4-5f2d-4829-9146-aea68e67ce96",
   "metadata": {
    "tags": []
   },
   "source": [
    "### Functions applied to NumPy Arrays"
   ]
  },
  {
   "cell_type": "code",
   "execution_count": 35,
   "id": "5d095263",
   "metadata": {},
   "outputs": [
    {
     "name": "stdout",
     "output_type": "stream",
     "text": [
      "Array sin(b) = \n",
      "[[-0.959 -0.959 -0.959 -0.959 -0.959]\n",
      " [-0.959 -0.959 -0.959 -0.959 -0.959]\n",
      " [-0.959 -0.959 -0.959 -0.959 -0.959]\n",
      " [-0.959 -0.959 -0.959 -0.959 -0.959]\n",
      " [-0.959 -0.959 -0.959 -0.959 -0.959]]\n",
      "\n",
      "Array cos(b) = \n",
      "[[0.284 0.284 0.284 0.284 0.284]\n",
      " [0.284 0.284 0.284 0.284 0.284]\n",
      " [0.284 0.284 0.284 0.284 0.284]\n",
      " [0.284 0.284 0.284 0.284 0.284]\n",
      " [0.284 0.284 0.284 0.284 0.284]]\n",
      "\n",
      "Array exp(b) = \n",
      "[[148.413 148.413 148.413 148.413 148.413]\n",
      " [148.413 148.413 148.413 148.413 148.413]\n",
      " [148.413 148.413 148.413 148.413 148.413]\n",
      " [148.413 148.413 148.413 148.413 148.413]\n",
      " [148.413 148.413 148.413 148.413 148.413]]\n",
      "\n",
      "Array sin(b)^2 + cos(b)^2 = \n",
      "[[1.000 1.000 1.000 1.000 1.000]\n",
      " [1.000 1.000 1.000 1.000 1.000]\n",
      " [1.000 1.000 1.000 1.000 1.000]\n",
      " [1.000 1.000 1.000 1.000 1.000]\n",
      " [1.000 1.000 1.000 1.000 1.000]]\n"
     ]
    }
   ],
   "source": [
    "# You can also apply functions.\n",
    "print('Array sin(b) = \\n'              , str(np.sin(b)) , NL*LS , \n",
    "      'Array cos(b) = \\n'              , str(np.cos(b)) , NL*LS ,  \n",
    "      'Array exp(b) = \\n'              , str(np.exp(b)) , NL*LS , \n",
    "      'Array sin(b)^2 + cos(b)^2 = \\n' , str(np.sin(b)**2 + np.cos(b)**2) , sep='')"
   ]
  },
  {
   "cell_type": "markdown",
   "id": "31c6849c-5215-4a49-baae-72cbbb1ab4e4",
   "metadata": {
    "tags": []
   },
   "source": [
    "### Operations between NumPy arrays"
   ]
  },
  {
   "cell_type": "code",
   "execution_count": 36,
   "id": "8e5ed8df",
   "metadata": {},
   "outputs": [
    {
     "name": "stdout",
     "output_type": "stream",
     "text": [
      "Array \"b\"= \n",
      "[[5 5 5 5 5]\n",
      " [5 5 5 5 5]\n",
      " [5 5 5 5 5]\n",
      " [5 5 5 5 5]\n",
      " [5 5 5 5 5]]\n",
      "Array \"c\"= \n",
      "[[5 5 5 5 5]\n",
      " [5 5 5 5 5]\n",
      " [5 5 5 5 5]\n",
      " [5 5 5 5 5]\n",
      " [5 5 5 5 5]]\n"
     ]
    }
   ],
   "source": [
    "# What happens when we try to do arithmetic between two arrays?\n",
    "# Initialize array c as a copy of b.\n",
    "c = b.copy()\n",
    "print('Array \"b\"= \\n' , str(b) , NL , \n",
    "      'Array \"c\"= \\n' , str(c) , sep='')"
   ]
  },
  {
   "cell_type": "code",
   "execution_count": 37,
   "id": "d7ad58cc-d4a1-4432-baa2-cf039812237c",
   "metadata": {},
   "outputs": [
    {
     "name": "stdout",
     "output_type": "stream",
     "text": [
      "Array b+c= \n",
      "[[5 5 5 5 5]\n",
      " [5 5 5 5 5]\n",
      " [5 5 5 5 5]\n",
      " [5 5 5 5 5]\n",
      " [5 5 5 5 5]]\n",
      "+\n",
      "[[5 5 5 5 5]\n",
      " [5 5 5 5 5]\n",
      " [5 5 5 5 5]\n",
      " [5 5 5 5 5]\n",
      " [5 5 5 5 5]]\n",
      "=\n",
      "[[10 10 10 10 10]\n",
      " [10 10 10 10 10]\n",
      " [10 10 10 10 10]\n",
      " [10 10 10 10 10]\n",
      " [10 10 10 10 10]]\n",
      "\n"
     ]
    }
   ],
   "source": [
    "# Addition\n",
    "print('Array b+c= \\n' , str(b) , NL , '+' , NL , str(c) , NL , \n",
    "      '=' , NL , str(b+c) , NL , sep='')"
   ]
  },
  {
   "cell_type": "code",
   "execution_count": 38,
   "id": "b22f0f6b-071b-4adb-b400-5f5bd068731a",
   "metadata": {},
   "outputs": [
    {
     "name": "stdout",
     "output_type": "stream",
     "text": [
      "Array b-c= \n",
      "[[5 5 5 5 5]\n",
      " [5 5 5 5 5]\n",
      " [5 5 5 5 5]\n",
      " [5 5 5 5 5]\n",
      " [5 5 5 5 5]]\n",
      "-\n",
      "[[5 5 5 5 5]\n",
      " [5 5 5 5 5]\n",
      " [5 5 5 5 5]\n",
      " [5 5 5 5 5]\n",
      " [5 5 5 5 5]]\n",
      "=\n",
      "[[0 0 0 0 0]\n",
      " [0 0 0 0 0]\n",
      " [0 0 0 0 0]\n",
      " [0 0 0 0 0]\n",
      " [0 0 0 0 0]]\n",
      "\n"
     ]
    }
   ],
   "source": [
    "# Subtraction\n",
    "print('Array b-c= \\n' , str(b) , NL , '-' , NL , str(c) , NL , \n",
    "      '=' , NL , str(b-c) , NL , sep='')"
   ]
  },
  {
   "cell_type": "code",
   "execution_count": 39,
   "id": "118b5015-1e99-48b4-9a94-04dca950aad0",
   "metadata": {},
   "outputs": [
    {
     "name": "stdout",
     "output_type": "stream",
     "text": [
      "Array b*c= \n",
      "[[5 5 5 5 5]\n",
      " [5 5 5 5 5]\n",
      " [5 5 5 5 5]\n",
      " [5 5 5 5 5]\n",
      " [5 5 5 5 5]]\n",
      "*\n",
      "[[5 5 5 5 5]\n",
      " [5 5 5 5 5]\n",
      " [5 5 5 5 5]\n",
      " [5 5 5 5 5]\n",
      " [5 5 5 5 5]]\n",
      "=\n",
      "[[25 25 25 25 25]\n",
      " [25 25 25 25 25]\n",
      " [25 25 25 25 25]\n",
      " [25 25 25 25 25]\n",
      " [25 25 25 25 25]]\n",
      "\n"
     ]
    }
   ],
   "source": [
    "# Multiplication\n",
    "print('Array b*c= \\n' , str(b) , NL , '*' , NL , str(c) , NL , \n",
    "      '=' , NL , str(b*c) , NL , sep='')"
   ]
  },
  {
   "cell_type": "code",
   "execution_count": 40,
   "id": "165acb7f-3430-4175-a168-fc31be7c6092",
   "metadata": {},
   "outputs": [
    {
     "name": "stdout",
     "output_type": "stream",
     "text": [
      "Array b/c= \n",
      "[[5 5 5 5 5]\n",
      " [5 5 5 5 5]\n",
      " [5 5 5 5 5]\n",
      " [5 5 5 5 5]\n",
      " [5 5 5 5 5]]\n",
      "/\n",
      "[[5 5 5 5 5]\n",
      " [5 5 5 5 5]\n",
      " [5 5 5 5 5]\n",
      " [5 5 5 5 5]\n",
      " [5 5 5 5 5]]\n",
      "=\n",
      "[[1.000 1.000 1.000 1.000 1.000]\n",
      " [1.000 1.000 1.000 1.000 1.000]\n",
      " [1.000 1.000 1.000 1.000 1.000]\n",
      " [1.000 1.000 1.000 1.000 1.000]\n",
      " [1.000 1.000 1.000 1.000 1.000]]\n",
      "\n"
     ]
    }
   ],
   "source": [
    "# Division\n",
    "print('Array b/c= \\n' , str(b) , NL , '/' , NL , str(c) , NL , \n",
    "      '=' , NL , str(b/c) , NL , sep='')"
   ]
  },
  {
   "cell_type": "raw",
   "id": "57c7f28c-2f29-4a26-9e46-105b3bcab214",
   "metadata": {},
   "source": [
    "Ok. It applied element by element arithmetic. Very useful to know. What happens when we try to do arithmetic operations between two arrays that do not have the same shape?"
   ]
  },
  {
   "cell_type": "code",
   "execution_count": 41,
   "id": "529fc5e1",
   "metadata": {},
   "outputs": [
    {
     "name": "stdout",
     "output_type": "stream",
     "text": [
      "Shape of array a: (5, 10, 10)\n",
      "Shape of array b: (5, 5)\n",
      "\n"
     ]
    },
    {
     "name": "stderr",
     "output_type": "stream",
     "text": [
      "Traceback (most recent call last):\n",
      "  File \"C:\\Users\\spotn\\AppData\\Local\\Temp/ipykernel_15032/2001332600.py\", line 6, in <module>\n",
      "    print('Array a+b= \\n'      , str(a+b)     , NL)\n",
      "ValueError: operands could not be broadcast together with shapes (5,10,10) (5,5) \n"
     ]
    }
   ],
   "source": [
    "# This \"try except\" sequence allows execution of code that produces an error.\n",
    "# The statement underneath \"except:\" prints the last error in the stack trace.\n",
    "try:\n",
    "    print('Shape of array a: ' , str(a.shape) , NL , \n",
    "          'Shape of array b: ' , str(b.shape) , NL , sep='')\n",
    "    print('Array a+b= \\n'      , str(a+b)     , NL)\n",
    "except:\n",
    "    traceback.print_exc()"
   ]
  },
  {
   "cell_type": "raw",
   "id": "13bd692a-a837-4728-b9aa-a1a9e325f879",
   "metadata": {},
   "source": [
    "Ah. It did not like that. \"Operands could not be broadcast together with shapes (N1,N2,N3) (N1,N1)\". This implies that the operations between arrays is known as \"broadcasting\" and that the shape of the arrays is important when performing operations that utilize broadcasting. Broadcasting is the most important feature of NumPy arrays as we will find out in the next section. "
   ]
  },
  {
   "cell_type": "markdown",
   "id": "4a654cb6",
   "metadata": {
    "tags": []
   },
   "source": [
    "## Broadcasting"
   ]
  },
  {
   "cell_type": "raw",
   "id": "5163ebcb-635e-4845-aa7b-7ffb959c6ecf",
   "metadata": {},
   "source": [
    "Source: NumPy Documentation v1.22 (All quotes regarding broadcasting)\n",
    "URL: https://numpy.org/doc/stable/user/basics.broadcasting.html\n",
    "\n",
    "Quote: \"Broadcasting provides a means of vectorizing array operations so that looping occurs in C instead of Python. It does this without making needless copies of data and usually leads to efficient algorithm implementations. There are, however, cases where broadcasting is a bad idea because it leads to inefficient use of memory that slows computation.\"\n",
    "\n",
    "Comment:\n",
    "So, broadcasting defines the behavior of operations on arrays. Lets try to learn a little more about broadcasting through further experimentation and practice."
   ]
  },
  {
   "cell_type": "code",
   "execution_count": 42,
   "id": "5f53d597",
   "metadata": {},
   "outputs": [
    {
     "name": "stdout",
     "output_type": "stream",
     "text": [
      "Now we have array \"b\" with shape (5, 5)\n",
      "[[5 5 5 5 5]\n",
      " [5 5 5 5 5]\n",
      " [5 5 5 5 5]\n",
      " [5 5 5 5 5]\n",
      " [5 5 5 5 5]]\n",
      "And array \"d\" with shape (5,)\n",
      "[1 1 1 1 1]\n",
      "\n"
     ]
    }
   ],
   "source": [
    "# Initialize array for broadcast testing\n",
    "d = np.ones((N1), dtype='int32')\n",
    "print('Now we have array \\\"b\\\" with shape ' , str(b.shape) , NL , str(b) , NL , \n",
    "      'And array \\\"d\\\" with shape '         , str(d.shape) , NL , str(d) , NL , sep='')"
   ]
  },
  {
   "cell_type": "code",
   "execution_count": 43,
   "id": "860a6c22",
   "metadata": {},
   "outputs": [
    {
     "name": "stdout",
     "output_type": "stream",
     "text": [
      "Array b+d = \n",
      "[[6 6 6 6 6]\n",
      " [6 6 6 6 6]\n",
      " [6 6 6 6 6]\n",
      " [6 6 6 6 6]\n",
      " [6 6 6 6 6]]\n",
      "Array (b+d).shape: (5, 5)\n",
      "\n"
     ]
    }
   ],
   "source": [
    "# What happens if we try to add these arrays together?\n",
    "print('Array b+d = \\n'      , str(b+d)         , NL , \n",
    "      'Array (b+d).shape: ' , str((b+d).shape) , NL , sep='')"
   ]
  },
  {
   "cell_type": "raw",
   "id": "1c7df239-4a92-46fa-a1f0-266cdc7196dd",
   "metadata": {},
   "source": [
    "Ok that worked. This, along with what we learned inthe last seciton, should allow us to infer what is happening when we add b+d. Let's look at the documentation to double check our understanding.\n",
    "\n",
    "Quote: \"NumPy operations are usually done on pairs of arrays on an element-by-element basis. In the simplest case, the two arrays must have exactly the same shape.\"\n",
    "\n",
    "Comment:\n",
    "This is what we saw in the section on operations between NumPy arrays where both arrays \"b\" and \"c\" had the same shape. This type of broad-casting is necessary when you have two arrays with unique values that cannot be represented by a single variable."
   ]
  },
  {
   "cell_type": "code",
   "execution_count": 44,
   "id": "1559fc3e-ccb7-4a86-85cc-e7c65d29e6cc",
   "metadata": {},
   "outputs": [
    {
     "name": "stdout",
     "output_type": "stream",
     "text": [
      "b.shape = (5, 5)\n",
      "c.shape = (5, 5)\n",
      "(b+c).shape = (5, 5)\n"
     ]
    }
   ],
   "source": [
    "# Example: Broadcasting between arrays with same shape.\n",
    "print('b.shape = '     , str(b.shape)    , NL , \n",
    "      'c.shape = '     , str(c.shape)    , NL ,\n",
    "      '(b+c).shape = ' , str((b+c).shape) , sep='')"
   ]
  },
  {
   "cell_type": "raw",
   "id": "8998d36e-3530-4723-9207-9e4c16ac0a56",
   "metadata": {},
   "source": [
    "Quote: \"NumPy’s broadcasting rule relaxes this constraint when the arrays’ shapes meet certain constraints. The simplest broadcasting example occurs when an array and a scalar value are combined in an operation. We can think of the scalar being stretched during the arithmetic operation into an array with the same shape as the NumPy array being operated on.\"\n",
    "\n",
    "Comment:\n",
    "This is what we observed in the section detailing arithmetic operations between a scalar and a NumPy array. This method of broadcasting is moreefficient because less memory is moved around during the operation. It is more memory intensive to work with an array containing elements that \n",
    "all have the same value than a scalar with the same value."
   ]
  },
  {
   "cell_type": "code",
   "execution_count": 45,
   "id": "f0b5400e-c822-4fbe-a5c1-4661e9a3d6aa",
   "metadata": {},
   "outputs": [
    {
     "name": "stdout",
     "output_type": "stream",
     "text": [
      "(N1*b).shape = (5, 5)\n"
     ]
    }
   ],
   "source": [
    "# Example: Broadcasting between scalar and an array.\n",
    "print('(N1*b).shape =' , str((N1*b).shape))"
   ]
  },
  {
   "cell_type": "raw",
   "id": "5afa5748-bc73-4f9e-8115-a71facfe77ec",
   "metadata": {},
   "source": [
    "Quote: \"When operating on two arrays, NumPy compares their shapes element-wise. It starts with the trailing (i.e. rightmost) dimensions and works its way left. Two dimensions are compatible when\n",
    "\n",
    "    1. they are equal\n",
    "    \n",
    "    2. one of them is one\n",
    "    \n",
    "If these conditions are not met, a ValueError: operands could not be broadcast together exception is thrown, indicating that the arrays have incompatible shapes. The size of the resulting array is the size that is not 1 along each axis of the inputs.\"\n",
    "\n",
    "Comment:\n",
    "This is what we observed in this section between array \"b\" and array \"d\". This is very important to understand when trying to perform operations between arrays of different sizes. NumPy broadcasting is not magic and can only be used in certain situations."
   ]
  },
  {
   "cell_type": "code",
   "execution_count": 46,
   "id": "bea84695",
   "metadata": {},
   "outputs": [
    {
     "name": "stdout",
     "output_type": "stream",
     "text": [
      "bcC.shape = (8, 7, 6, 5)\n"
     ]
    }
   ],
   "source": [
    "# Example: Initialize arrays and look at the shape of the resulting array after broadcasting.\n",
    "bcA = np.ones((8,1,6,1)) # (4d array):  8 x 1 x 6 x 1\n",
    "bcB = np.ones(  (7,1,5)) # (3d array):      7 x 1 x 5\n",
    "bcC = bcA + bcB          # (4d array):  8 x 7 x 6 x 5\n",
    "print('bcC.shape =' , bcC.shape)"
   ]
  },
  {
   "cell_type": "markdown",
   "id": "890a9203-7a0c-465a-87c1-2475070dac26",
   "metadata": {},
   "source": [
    "## Comments and Thoughts"
   ]
  },
  {
   "cell_type": "raw",
   "id": "5b3279b5-e87d-4739-a4dd-7100d177ccff",
   "metadata": {},
   "source": [
    "This is just a preview of what NumPy arrays have to offer. These properties make NumPy arrays an essential tool for people that requires easy and efficient manipulation of large data structures. I personally have used NumPy arrays in all of my scientific projects that require the manipulation of large, digital data structures because of their versatility.\n",
    "\n",
    "Remember that NumPy arrays are not always the best tool for the job and using them requires careful consideration of the pros and cons when compared to something else.\n",
    "\n",
    "Pros:\n",
    "    \n",
    "Cons:\n",
    "    "
   ]
  }
 ],
 "metadata": {
  "kernelspec": {
   "display_name": "Python 3 (ipykernel)",
   "language": "python",
   "name": "python3"
  },
  "language_info": {
   "codemirror_mode": {
    "name": "ipython",
    "version": 3
   },
   "file_extension": ".py",
   "mimetype": "text/x-python",
   "name": "python",
   "nbconvert_exporter": "python",
   "pygments_lexer": "ipython3",
   "version": "3.9.7"
  }
 },
 "nbformat": 4,
 "nbformat_minor": 5
}
